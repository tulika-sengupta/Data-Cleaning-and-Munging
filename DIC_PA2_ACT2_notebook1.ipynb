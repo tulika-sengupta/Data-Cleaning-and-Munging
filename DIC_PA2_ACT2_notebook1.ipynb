{
 "cells": [
  {
   "cell_type": "code",
   "execution_count": null,
   "metadata": {
    "collapsed": false
   },
   "outputs": [],
   "source": [
    "install.packages('RSQLite', dependencies = T , repos='http://cran.us.r-project.org')"
   ]
  },
  {
   "cell_type": "code",
   "execution_count": null,
   "metadata": {
    "collapsed": false
   },
   "outputs": [],
   "source": [
    "install.packages('sqldf', dependencies = T , repos='http://cran.us.r-project.org')"
   ]
  },
  {
   "cell_type": "markdown",
   "metadata": {},
   "source": [
    "<html><b>Including the required libraries</b></html>"
   ]
  },
  {
   "cell_type": "code",
   "execution_count": null,
   "metadata": {
    "collapsed": false
   },
   "outputs": [],
   "source": [
    "library(RSQLite)\n",
    "library(sqldf)"
   ]
  },
  {
   "cell_type": "markdown",
   "metadata": {},
   "source": [
    "<html><b>Connecting to the database.</b></html>"
   ]
  },
  {
   "cell_type": "code",
   "execution_count": null,
   "metadata": {
    "collapsed": true
   },
   "outputs": [],
   "source": [
    "db = dbConnect(SQLite(), dbname=\"database.sqlite\")"
   ]
  },
  {
   "cell_type": "markdown",
   "metadata": {},
   "source": [
    "<html><b>Fetching the ratings of the players.</b></html>"
   ]
  },
  {
   "cell_type": "code",
   "execution_count": null,
   "metadata": {
    "collapsed": false
   },
   "outputs": [],
   "source": [
    "p1 = dbGetQuery(db, \"select player_api_id, player_name, MAX(overall_rating) as rating from Player_Attributes join Player using(player_api_id) group by player_api_id order by rating desc\")\n"
   ]
  },
  {
   "cell_type": "markdown",
   "metadata": {},
   "source": [
    "<html><b>Fetching the sum of the gk attributes of all the players.</b></html>"
   ]
  },
  {
   "cell_type": "code",
   "execution_count": null,
   "metadata": {
    "collapsed": false
   },
   "outputs": [],
   "source": [
    "p2 = dbGetQuery(db, \"select player_api_id, MAX(gk_diving + gk_handling + gk_kicking + gk_positioning + gk_reflexes) AS Sum_GK from Player_Attributes group by player_api_id order by player_api_id\")\n"
   ]
  },
  {
   "cell_type": "markdown",
   "metadata": {},
   "source": [
    "<html><b>Fetching the number of appearances of all the players.</b></html>"
   ]
  },
  {
   "cell_type": "code",
   "execution_count": null,
   "metadata": {
    "collapsed": false
   },
   "outputs": [],
   "source": [
    "p3 = dbGetQuery(db, \"select player as player_api_id, sum(mycount) as appearance\n",
    "from (\n",
    "select home_player_1 as player, count(*) as mycount\n",
    "from match\n",
    "group by home_player_1\n",
    "union all\n",
    "    \n",
    "select home_player_2 as player, count(*) as mycount\n",
    "from match\n",
    "group by home_player_2\n",
    "union all\n",
    "    \n",
    "select home_player_3 as player, count(*) as mycount\n",
    "from match\n",
    "group by home_player_3\n",
    "union all\n",
    "    \n",
    "select home_player_4 as player, count(*) as mycount\n",
    "from match\n",
    "group by home_player_4\n",
    "union all\n",
    "    \n",
    "select home_player_5 as player, count(*) as mycount\n",
    "from match\n",
    "group by home_player_5\n",
    "union all\n",
    "\n",
    "select home_player_6 as player, count(*) as mycount\n",
    "from match\n",
    "group by home_player_6\n",
    "union all\n",
    "\n",
    "select home_player_7 as player, count(*) as mycount\n",
    "from match\n",
    "group by home_player_7\n",
    "union all\n",
    "\n",
    "select home_player_8 as player, count(*) as mycount\n",
    "from match\n",
    "group by home_player_8\n",
    "union all\n",
    "\n",
    "select home_player_9 as player, count(*) as mycount\n",
    "from match\n",
    "group by home_player_9\n",
    "union all\n",
    "\n",
    "select home_player_10 as player, count(*) as mycount\n",
    "from match\n",
    "group by home_player_10\n",
    "union all\n",
    "\n",
    "select home_player_11 as player, count(*) as mycount\n",
    "from match\n",
    "group by home_player_11\n",
    "union all\n",
    "\n",
    "select away_player_1 as player, count(*) as mycount\n",
    "from match\n",
    "group by away_player_1\n",
    "union all\n",
    "\n",
    "select away_player_2 as player, count(*) as mycount\n",
    "from match\n",
    "group by away_player_2\n",
    "union all\n",
    "\n",
    "select away_player_3 as player, count(*) as mycount\n",
    "from match\n",
    "group by away_player_3\n",
    "union all\n",
    "\n",
    "select away_player_4 as player, count(*) as mycount\n",
    "from match\n",
    "group by away_player_4\n",
    "union all\n",
    "\n",
    "select away_player_5 as player, count(*) as mycount\n",
    "from match\n",
    "group by away_player_5\n",
    "union all\n",
    "\n",
    "select away_player_6 as player, count(*) as mycount\n",
    "from match\n",
    "group by away_player_6\n",
    "union all\n",
    "\n",
    "select away_player_7 as player, count(*) as mycount\n",
    "from match\n",
    "group by away_player_7\n",
    "union all\n",
    "\n",
    "select away_player_8 as player, count(*) as mycount\n",
    "from match\n",
    "group by away_player_8\n",
    "union all\n",
    "\n",
    "select away_player_9 as player, count(*) as mycount\n",
    "from match\n",
    "group by away_player_9\n",
    "union all\n",
    "\n",
    "select away_player_10 as player, count(*) as mycount\n",
    "from match\n",
    "group by away_player_10\n",
    "union all\n",
    "\n",
    "select away_player_11 as player, count(*) as mycount\n",
    "from match\n",
    "group by away_player_11\n",
    "\n",
    ")myTab join Player on Player.player_api_id = myTab.player \n",
    "group by player \n",
    "order by appearance desc\")\n"
   ]
  },
  {
   "cell_type": "markdown",
   "metadata": {},
   "source": [
    "<html><b>Fetching the number of leagues a team has played for.</b></html>"
   ]
  },
  {
   "cell_type": "code",
   "execution_count": null,
   "metadata": {
    "collapsed": false
   },
   "outputs": [],
   "source": [
    "p4= dbGetQuery(db, \"select player_api_id, count(distinct league_id) as [No of Leagues] from Match join Player\n",
    "                    where player_api_id=home_player_1 or player_api_id=home_player_2 or player_api_id=home_player_3 or\n",
    "                          player_api_id=home_player_4 or player_api_id=home_player_5 or player_api_id=home_player_6 or\n",
    "                          player_api_id=home_player_7 or player_api_id=home_player_8 or player_api_id=home_player_9 or\n",
    "                          player_api_id=home_player_10 or player_api_id=home_player_11 or \n",
    "                          player_api_id=away_player_1 or player_api_id=away_player_2 or player_api_id=away_player_3 or\n",
    "                          player_api_id=away_player_4 or player_api_id=away_player_5 or player_api_id=away_player_6 or\n",
    "                          player_api_id=away_player_7 or player_api_id=away_player_8 or player_api_id=away_player_9 or\n",
    "                          player_api_id=away_player_10 or player_api_id=away_player_11 \n",
    "                    group by player_api_id order by count(distinct league_id) desc\")\n"
   ]
  },
  {
   "cell_type": "markdown",
   "metadata": {},
   "source": [
    "<html><b>Combining all the required columns fetched from the player table into the finalPlayer dataframe.</b></html>"
   ]
  },
  {
   "cell_type": "code",
   "execution_count": null,
   "metadata": {
    "collapsed": false
   },
   "outputs": [],
   "source": [
    "finalPlayer = sqldf(\"select * from p1 join p2 using(player_api_id) join p3 using(player_api_id) join p4 using(player_api_id)\")\n",
    "finalPlayer\n"
   ]
  },
  {
   "cell_type": "markdown",
   "metadata": {},
   "source": [
    "<html><b>Fetching the sum of the Build up play attributes for a team.</b></html>"
   ]
  },
  {
   "cell_type": "code",
   "execution_count": null,
   "metadata": {
    "collapsed": false
   },
   "outputs": [],
   "source": [
    "#teams\n",
    "t1 = dbGetQuery(db, \"select team_api_id, team_long_name, MAX(buildUpPlaySpeed + buildUpPlaySpeedClass + buildUpPlayDribbling + buildUpPlayDribblingClass + buildUpPlayPassing + buildUpPlayPassingClass + buildUpPlayPositioningClass) AS BuildUpPlay from Team_Attributes join Team using(team_api_id) group by team_api_id order by BuildUpPlay desc\")\n"
   ]
  },
  {
   "cell_type": "markdown",
   "metadata": {},
   "source": [
    "<html><b>Fetching the sum of the chance creation attributes for a team.</b></html>"
   ]
  },
  {
   "cell_type": "code",
   "execution_count": null,
   "metadata": {
    "collapsed": false
   },
   "outputs": [],
   "source": [
    "t2 = dbGetQuery(db, \"select team_api_id, MAX(chanceCreationPassing + chanceCreationPassingClass + chanceCreationCrossing + chanceCreationCrossingClass + chanceCreationShooting + chanceCreationShootingClass + chanceCreationPositioningClass) AS ChanceCreation from Team_Attributes group by team_api_id order by ChanceCreation desc\")"
   ]
  },
  {
   "cell_type": "markdown",
   "metadata": {},
   "source": [
    "<html><b>Fetching the sum of the Defence attributes for a team.</b></html>"
   ]
  },
  {
   "cell_type": "code",
   "execution_count": null,
   "metadata": {
    "collapsed": false
   },
   "outputs": [],
   "source": [
    "t3 = dbGetQuery(db, \"select team_api_id, MAX(defencePressure + defencePressureClass + defenceAggression + defenceAggressionClass + defenceTeamWidth + defenceTeamWidthClass + defenceDefenderLineClass) AS Defence from Team_Attributes group by team_api_id order by Defence desc\")"
   ]
  },
  {
   "cell_type": "markdown",
   "metadata": {},
   "source": [
    "<html><b>Fetching the number of goals for a team.</b></html>"
   ]
  },
  {
   "cell_type": "code",
   "execution_count": null,
   "metadata": {
    "collapsed": false
   },
   "outputs": [],
   "source": [
    "t4 = dbGetQuery(db, \"select team_api_id, sum(home_team_goal) as Goal from Match join Team\n",
    "                    where team_api_id=home_team_api_id\n",
    "                    group by team_api_id\")\n",
    "\n",
    "\n",
    "t5 = dbGetQuery(db, \"select team_api_id, sum(away_team_goal) as Goal from Match join Team\n",
    "                    where team_api_id=away_team_api_id\n",
    "                    group by team_api_id\")\n",
    "\n",
    "\n",
    "t6 = sqldf(\"select team_api_id, t4.Goal+t5.Goal as [no of goal] from t4 join t5 using(team_api_id) order by [no of goal] desc\")\n"
   ]
  },
  {
   "cell_type": "markdown",
   "metadata": {},
   "source": [
    "<html><b>Combining all the required columns fetched from the team table into the finalTeam dataframe.</b></html>"
   ]
  },
  {
   "cell_type": "code",
   "execution_count": null,
   "metadata": {
    "collapsed": false
   },
   "outputs": [],
   "source": [
    "finalTeam = sqldf(\"select * from t1 join t2 using(team_api_id) join t3 using(team_api_id) join t4 using(team_api_id)\")\n",
    "finalTeam"
   ]
  },
  {
   "cell_type": "markdown",
   "metadata": {},
   "source": [
    "<html><b>Writing the data into Player.csv file.</b></html>"
   ]
  },
  {
   "cell_type": "code",
   "execution_count": null,
   "metadata": {
    "collapsed": true
   },
   "outputs": [],
   "source": [
    "write.csv(finalPlayer,\"Player.csv\",row.names=FALSE)"
   ]
  },
  {
   "cell_type": "markdown",
   "metadata": {},
   "source": [
    "<html><b>Writing the data into Team.csv file.</b></html>"
   ]
  },
  {
   "cell_type": "code",
   "execution_count": null,
   "metadata": {
    "collapsed": false
   },
   "outputs": [],
   "source": [
    "write.csv(finalTeam,\"Team.csv\",row.names=FALSE)"
   ]
  },
  {
   "cell_type": "raw",
   "metadata": {},
   "source": []
  }
 ],
 "metadata": {
  "kernelspec": {
   "display_name": "R",
   "language": "R",
   "name": "ir"
  },
  "language_info": {
   "codemirror_mode": "r",
   "file_extension": ".r",
   "mimetype": "text/x-r-source",
   "name": "R",
   "pygments_lexer": "r",
   "version": "3.3.2"
  }
 },
 "nbformat": 4,
 "nbformat_minor": 2
}
