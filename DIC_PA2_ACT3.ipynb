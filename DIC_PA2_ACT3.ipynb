{
 "cells": [
  {
   "cell_type": "code",
   "execution_count": 93,
   "metadata": {
    "collapsed": false
   },
   "outputs": [],
   "source": [
    "library(RSQLite)\n",
    "library(sqldf)\n",
    "library(ggplot2)"
   ]
  },
  {
   "cell_type": "code",
   "execution_count": null,
   "metadata": {
    "collapsed": true
   },
   "outputs": [],
   "source": [
    "df = read.csv(file= \"June 10-July 12, 2015 - Gaming, Jobs and Broadband - CSV.csv\")"
   ]
  },
  {
   "cell_type": "markdown",
   "metadata": {},
   "source": [
    "<html><b>Which age group uses the dating app the most?</b></html>"
   ]
  },
  {
   "cell_type": "code",
   "execution_count": 124,
   "metadata": {
    "collapsed": false
   },
   "outputs": [
    {
     "data": {
      "text/html": [
       "<table>\n",
       "<thead><tr><th scope=col>AgeGroup</th><th scope=col>Number_of_People_using_DatingApp</th></tr></thead>\n",
       "<tbody>\n",
       "\t<tr><td>18-25</td><td>57   </td></tr>\n",
       "\t<tr><td>26-30</td><td>32   </td></tr>\n",
       "\t<tr><td>31-45</td><td>76   </td></tr>\n",
       "\t<tr><td>46-60</td><td>70   </td></tr>\n",
       "\t<tr><td><span style=white-space:pre-wrap>&gt;60  </span></td><td>37                                              </td></tr>\n",
       "</tbody>\n",
       "</table>\n"
      ],
      "text/latex": [
       "\\begin{tabular}{r|ll}\n",
       " AgeGroup & Number\\_of\\_People\\_using\\_DatingApp\\\\\n",
       "\\hline\n",
       "\t 18-25 & 57   \\\\\n",
       "\t 26-30 & 32   \\\\\n",
       "\t 31-45 & 76   \\\\\n",
       "\t 46-60 & 70   \\\\\n",
       "\t >60   & 37   \\\\\n",
       "\\end{tabular}\n"
      ],
      "text/markdown": [
       "\n",
       "AgeGroup | Number_of_People_using_DatingApp | \n",
       "|---|---|---|---|---|\n",
       "| 18-25 | 57    | \n",
       "| 26-30 | 32    | \n",
       "| 31-45 | 76    | \n",
       "| 46-60 | 70    | \n",
       "| >60   | 37    | \n",
       "\n",
       "\n"
      ],
      "text/plain": [
       "  AgeGroup Number_of_People_using_DatingApp\n",
       "1 18-25    57                              \n",
       "2 26-30    32                              \n",
       "3 31-45    76                              \n",
       "4 46-60    70                              \n",
       "5 >60      37                              "
      ]
     },
     "metadata": {},
     "output_type": "display_data"
    }
   ],
   "source": [
    "q1 = sqldf(\"SELECT age_range AS [AgeGroup], count(*) as [Number_of_People_using_DatingApp] FROM \n",
    "(\n",
    "select \n",
    "  case\n",
    "   when AGE between 18 and 25 then '18-25'\n",
    "   when AGE between 26 and 30 then '26-30'\n",
    "   when AGE between 31 and 45 then '31-45'\n",
    "   when AGE between 46 and 60 then '46-60'\n",
    "   when AGE > 60 then '>60'\n",
    " END as age_range \n",
    " from df\n",
    " where DATE1a = 1 or DATE2a = 1\n",
    ") t\n",
    "group by age_range\n",
    "order by age_range\")\n",
    "q1"
   ]
  },
  {
   "cell_type": "markdown",
   "metadata": {},
   "source": [
    "<html><b>Plotting a pie chart to represent the information. The pie chart shows the different age groups and the number of people in that age group using the dating app.</b></html>"
   ]
  },
  {
   "cell_type": "markdown",
   "metadata": {},
   "source": [
    "<html><b>Ans. As can be seen from the chart, the number of people in the age group 46-60 use the dating app the most.</b></html>"
   ]
  },
  {
   "cell_type": "code",
   "execution_count": 199,
   "metadata": {
    "collapsed": false
   },
   "outputs": [
    {
     "data": {},
     "metadata": {},
     "output_type": "display_data"
    },
    {
     "data": {
      "image/png": "[encoded data removed]",
      "text/plain": [
       "plot without title"
      ]
     },
     "metadata": {},
     "output_type": "display_data"
    }
   ],
   "source": [
    "d <- data.frame(Number_of_People_using_DatingApp=c(q1$Number_of_People_using_DatingApp), AgeGroup=c(q1$AgeGroup))\n",
    "value = q1$Number_of_People_using_DatingApp\n",
    "# Barplot\n",
    "bp<- ggplot(d, aes(x=\"\", y=Number_of_People_using_DatingApp, fill=AgeGroup))+ geom_bar(width = 1, stat = \"identity\")\n",
    "pie <- bp + coord_polar(\"y\", start=0)\n",
    "pie + xlab('') +  geom_text(aes(y=cumsum(value)-value/2, label=scales::percent(value)))\n"
   ]
  },
  {
   "cell_type": "markdown",
   "metadata": {},
   "source": [
    "<html><b>How likely it is for married people to use the dating app? Which gender is more likely to use the dating app? </b></html>"
   ]
  },
  {
   "cell_type": "code",
   "execution_count": 205,
   "metadata": {
    "collapsed": false
   },
   "outputs": [
    {
     "data": {
      "text/html": [
       "<table>\n",
       "<thead><tr><th scope=col>sex</th><th scope=col>marital</th><th scope=col>Number_of_People</th></tr></thead>\n",
       "<tbody>\n",
       "\t<tr><td>1  </td><td>1  </td><td>532</td></tr>\n",
       "\t<tr><td>2  </td><td>1  </td><td>507</td></tr>\n",
       "\t<tr><td>1  </td><td>2  </td><td> 69</td></tr>\n",
       "\t<tr><td>2  </td><td>2  </td><td> 58</td></tr>\n",
       "\t<tr><td>1  </td><td>3  </td><td> 73</td></tr>\n",
       "\t<tr><td>2  </td><td>3  </td><td>104</td></tr>\n",
       "\t<tr><td>1  </td><td>4  </td><td> 23</td></tr>\n",
       "\t<tr><td>2  </td><td>4  </td><td> 27</td></tr>\n",
       "\t<tr><td>1  </td><td>5  </td><td> 48</td></tr>\n",
       "\t<tr><td>2  </td><td>5  </td><td>128</td></tr>\n",
       "</tbody>\n",
       "</table>\n"
      ],
      "text/latex": [
       "\\begin{tabular}{r|lll}\n",
       " sex & marital & Number\\_of\\_People\\\\\n",
       "\\hline\n",
       "\t 1   & 1   & 532\\\\\n",
       "\t 2   & 1   & 507\\\\\n",
       "\t 1   & 2   &  69\\\\\n",
       "\t 2   & 2   &  58\\\\\n",
       "\t 1   & 3   &  73\\\\\n",
       "\t 2   & 3   & 104\\\\\n",
       "\t 1   & 4   &  23\\\\\n",
       "\t 2   & 4   &  27\\\\\n",
       "\t 1   & 5   &  48\\\\\n",
       "\t 2   & 5   & 128\\\\\n",
       "\\end{tabular}\n"
      ],
      "text/markdown": [
       "\n",
       "sex | marital | Number_of_People | \n",
       "|---|---|---|---|---|---|---|---|---|---|\n",
       "| 1   | 1   | 532 | \n",
       "| 2   | 1   | 507 | \n",
       "| 1   | 2   |  69 | \n",
       "| 2   | 2   |  58 | \n",
       "| 1   | 3   |  73 | \n",
       "| 2   | 3   | 104 | \n",
       "| 1   | 4   |  23 | \n",
       "| 2   | 4   |  27 | \n",
       "| 1   | 5   |  48 | \n",
       "| 2   | 5   | 128 | \n",
       "\n",
       "\n"
      ],
      "text/plain": [
       "   sex marital Number_of_People\n",
       "1  1   1       532             \n",
       "2  2   1       507             \n",
       "3  1   2        69             \n",
       "4  2   2        58             \n",
       "5  1   3        73             \n",
       "6  2   3       104             \n",
       "7  1   4        23             \n",
       "8  2   4        27             \n",
       "9  1   5        48             \n",
       "10 2   5       128             "
      ]
     },
     "metadata": {},
     "output_type": "display_data"
    }
   ],
   "source": [
    "q2 = sqldf(\"select SEX, MARITAL, count(*) AS [Number_of_People] \n",
    "            from df\n",
    "            where MARITAL = 1 or MARITAL = 2 or MARITAL = 3 or MARITAL = 4 or MARITAL = 5\n",
    "            group by SEX, MARITAL\n",
    "            order by MARITAL\")\n",
    "q2"
   ]
  },
  {
   "cell_type": "markdown",
   "metadata": {},
   "source": [
    "<html><b>Plotting a sided by side bar chart. The x axis represents themarital status. The y axis represents the number of people using the dating app. The bar graph shows the difference in the number of married men and women who use the dating app.\n",
    "\n",
    "Ans. It can be seen that the probablity of the professional job type tp exist in future is the most. And the probablity that government oficials will exist is very less.</b></html>"
   ]
  },
  {
   "cell_type": "markdown",
   "metadata": {},
   "source": [
    "<html><b>Ans. As can be seen, a very high number of married men and women use the dating app. Widowed women are more likely to use the dating app as compared to the men. </b></html>"
   ]
  },
  {
   "cell_type": "code",
   "execution_count": 206,
   "metadata": {
    "collapsed": false
   },
   "outputs": [
    {
     "data": {},
     "metadata": {},
     "output_type": "display_data"
    },
    {
     "data": {
      "image/png": "[encoded data removed]",
      "text/plain": [
       "plot without title"
      ]
     },
     "metadata": {},
     "output_type": "display_data"
    }
   ],
   "source": [
    "column1 <- c(rep(\"Married\", 2), rep(\"Living with a partner\", 2), rep(\"Divorced\", 2), rep(\"Seperated\", 2), rep(\"Widowed\", 2))\n",
    "column2 <- gl(2, 1, 10, labels=c(\"Male\", \"Female\"))\n",
    "column3 <- c(q2$Number_of_People)\n",
    "\n",
    "d <- data.frame(MaritalStatus=column1, Gender=column2, Number_Of_People_Using_DatingApp=column3)\n",
    "\n",
    "require(ggplot2)\n",
    "ggplot(d, aes(x=MaritalStatus, y=Number_Of_People_Using_DatingApp, fill=Gender)) + geom_bar(stat=\"identity\", position=position_dodge())"
   ]
  },
  {
   "cell_type": "markdown",
   "metadata": {},
   "source": [
    "<html><b>What is number of people doing manual or physical work depending on gender?Are men more likely to do physical work? Or men and women both do equal amount of physical work nowadays?</b></html>"
   ]
  },
  {
   "cell_type": "code",
   "execution_count": 162,
   "metadata": {
    "collapsed": false
   },
   "outputs": [
    {
     "data": {
      "text/html": [
       "<table>\n",
       "<thead><tr><th scope=col>sex</th><th scope=col>Employment_Type</th><th scope=col>Number_of_people_doing_manual_or_physical_labour_depending_on_gender</th></tr></thead>\n",
       "<tbody>\n",
       "\t<tr><td>1  </td><td>1  </td><td>284</td></tr>\n",
       "\t<tr><td>2  </td><td>1  </td><td>162</td></tr>\n",
       "\t<tr><td>1  </td><td>2  </td><td>339</td></tr>\n",
       "\t<tr><td>2  </td><td>2  </td><td>313</td></tr>\n",
       "</tbody>\n",
       "</table>\n"
      ],
      "text/latex": [
       "\\begin{tabular}{r|lll}\n",
       " sex & Employment\\_Type & Number\\_of\\_people\\_doing\\_manual\\_or\\_physical\\_labour\\_depending\\_on\\_gender\\\\\n",
       "\\hline\n",
       "\t 1   & 1   & 284\\\\\n",
       "\t 2   & 1   & 162\\\\\n",
       "\t 1   & 2   & 339\\\\\n",
       "\t 2   & 2   & 313\\\\\n",
       "\\end{tabular}\n"
      ],
      "text/markdown": [
       "\n",
       "sex | Employment_Type | Number_of_people_doing_manual_or_physical_labour_depending_on_gender | \n",
       "|---|---|---|---|\n",
       "| 1   | 1   | 284 | \n",
       "| 2   | 1   | 162 | \n",
       "| 1   | 2   | 339 | \n",
       "| 2   | 2   | 313 | \n",
       "\n",
       "\n"
      ],
      "text/plain": [
       "  sex Employment_Type\n",
       "1 1   1              \n",
       "2 2   1              \n",
       "3 1   2              \n",
       "4 2   2              \n",
       "  Number_of_people_doing_manual_or_physical_labour_depending_on_gender\n",
       "1 284                                                                 \n",
       "2 162                                                                 \n",
       "3 339                                                                 \n",
       "4 313                                                                 "
      ]
     },
     "metadata": {},
     "output_type": "display_data"
    }
   ],
   "source": [
    "q3 = sqldf(\"select SEX, EMPTYPE2 as [Employment_Type], count(*) as [Number_of_people_doing_manual_or_physical_labour_depending_on_gender]\n",
    "            FROM df\n",
    "            where EMPTYPE2 = 1 or EMPTYPE2 = 2\n",
    "            group by SEX, EMPTYPE2\n",
    "            ORDER BY Employment_Type\")\n",
    "q3"
   ]
  },
  {
   "cell_type": "markdown",
   "metadata": {},
   "source": [
    "<html><b>Plotting a sided by side bar chart. The x axis represents the type of work people do. The y axis represents the number of people doing which type of work. The bar graph shows the differencein the number of men and women doing what type of work</b></html>"
   ]
  },
  {
   "cell_type": "markdown",
   "metadata": {},
   "source": [
    "<html><b>Ans. As can be seen from the graph, men are more likely to do physical work as compared to women. But almost equal number of both men and women do non physical work </b></html>"
   ]
  },
  {
   "cell_type": "code",
   "execution_count": 163,
   "metadata": {
    "collapsed": false
   },
   "outputs": [
    {
     "data": {},
     "metadata": {},
     "output_type": "display_data"
    },
    {
     "data": {
      "image/png": "[encoded data removed]",
      "text/plain": [
       "plot without title"
      ]
     },
     "metadata": {},
     "output_type": "display_data"
    }
   ],
   "source": [
    "column1 <- c(rep(\"Manual & Physical Labour\", 2), rep(\"No Manual or Physical Labor\", 2))\n",
    "column2 <- gl(2, 1, 4, labels=c(\"Male\", \"Female\"))\n",
    "column3 <- c(q3$Number_of_people_doing_manual_or_physical_labour_depending_on_gender)\n",
    "\n",
    "d <- data.frame(Employment_Type=column1, Gender=column2, Number_of_people_doing_manual_or_physical_labour_depending_on_gender=column3)\n",
    "\n",
    "require(ggplot2)\n",
    "ggplot(d, aes(x=Employment_Type, y=Number_of_people_doing_manual_or_physical_labour_depending_on_gender, fill=Gender)) + geom_bar(stat=\"identity\", position=position_dodge())"
   ]
  },
  {
   "cell_type": "markdown",
   "metadata": {},
   "source": [
    "<html><b>What is the frequency of the job types in terms of its future existence. How likely is a professional employment type liable to exist in future? And what about other job types as well? </b></html>"
   ]
  },
  {
   "cell_type": "code",
   "execution_count": 181,
   "metadata": {
    "collapsed": false
   },
   "outputs": [
    {
     "data": {
      "text/html": [
       "<table>\n",
       "<thead><tr><th scope=col>Employment_Type</th><th scope=col>Future_of_Occupation</th><th scope=col>frequency</th></tr></thead>\n",
       "<tbody>\n",
       "\t<tr><td>1  </td><td>1  </td><td>118</td></tr>\n",
       "\t<tr><td>2  </td><td>1  </td><td> 25</td></tr>\n",
       "\t<tr><td>3  </td><td>1  </td><td>  5</td></tr>\n",
       "\t<tr><td>4  </td><td>1  </td><td> 14</td></tr>\n",
       "\t<tr><td>5  </td><td>1  </td><td> 28</td></tr>\n",
       "\t<tr><td>1  </td><td>2  </td><td>166</td></tr>\n",
       "\t<tr><td>2  </td><td>2  </td><td> 60</td></tr>\n",
       "\t<tr><td>3  </td><td>2  </td><td>  3</td></tr>\n",
       "\t<tr><td>4  </td><td>2  </td><td> 32</td></tr>\n",
       "\t<tr><td>5  </td><td>2  </td><td> 37</td></tr>\n",
       "\t<tr><td>1  </td><td>4  </td><td> 19</td></tr>\n",
       "\t<tr><td>2  </td><td>4  </td><td>  5</td></tr>\n",
       "\t<tr><td>3  </td><td>4  </td><td>  1</td></tr>\n",
       "\t<tr><td>4  </td><td>4  </td><td>  4</td></tr>\n",
       "\t<tr><td>5  </td><td>4  </td><td>  7</td></tr>\n",
       "</tbody>\n",
       "</table>\n"
      ],
      "text/latex": [
       "\\begin{tabular}{r|lll}\n",
       " Employment\\_Type & Future\\_of\\_Occupation & frequency\\\\\n",
       "\\hline\n",
       "\t 1   & 1   & 118\\\\\n",
       "\t 2   & 1   &  25\\\\\n",
       "\t 3   & 1   &   5\\\\\n",
       "\t 4   & 1   &  14\\\\\n",
       "\t 5   & 1   &  28\\\\\n",
       "\t 1   & 2   & 166\\\\\n",
       "\t 2   & 2   &  60\\\\\n",
       "\t 3   & 2   &   3\\\\\n",
       "\t 4   & 2   &  32\\\\\n",
       "\t 5   & 2   &  37\\\\\n",
       "\t 1   & 4   &  19\\\\\n",
       "\t 2   & 4   &   5\\\\\n",
       "\t 3   & 4   &   1\\\\\n",
       "\t 4   & 4   &   4\\\\\n",
       "\t 5   & 4   &   7\\\\\n",
       "\\end{tabular}\n"
      ],
      "text/markdown": [
       "\n",
       "Employment_Type | Future_of_Occupation | frequency | \n",
       "|---|---|---|---|---|---|---|---|---|---|---|---|---|---|---|\n",
       "| 1   | 1   | 118 | \n",
       "| 2   | 1   |  25 | \n",
       "| 3   | 1   |   5 | \n",
       "| 4   | 1   |  14 | \n",
       "| 5   | 1   |  28 | \n",
       "| 1   | 2   | 166 | \n",
       "| 2   | 2   |  60 | \n",
       "| 3   | 2   |   3 | \n",
       "| 4   | 2   |  32 | \n",
       "| 5   | 2   |  37 | \n",
       "| 1   | 4   |  19 | \n",
       "| 2   | 4   |   5 | \n",
       "| 3   | 4   |   1 | \n",
       "| 4   | 4   |   4 | \n",
       "| 5   | 4   |   7 | \n",
       "\n",
       "\n"
      ],
      "text/plain": [
       "   Employment_Type Future_of_Occupation frequency\n",
       "1  1               1                    118      \n",
       "2  2               1                     25      \n",
       "3  3               1                      5      \n",
       "4  4               1                     14      \n",
       "5  5               1                     28      \n",
       "6  1               2                    166      \n",
       "7  2               2                     60      \n",
       "8  3               2                      3      \n",
       "9  4               2                     32      \n",
       "10 5               2                     37      \n",
       "11 1               4                     19      \n",
       "12 2               4                      5      \n",
       "13 3               4                      1      \n",
       "14 4               4                      4      \n",
       "15 5               4                      7      "
      ]
     },
     "metadata": {},
     "output_type": "display_data"
    }
   ],
   "source": [
    "q4 = sqldf(\"select EMPTYPE3 AS [Employment_Type], AUTO2 as [Future_of_Occupation], count(*) AS frequency from df where \n",
    "            (EMPTYPE3 <> 9 AND EMPTYPE3 <> 6 AND EMPTYPE3 <> 8) and ((AUTO2 <> 8) AND (AUTO2<>9)) and AUTO2<>3\n",
    "            group by EMPTYPE3, AUTO2\n",
    "            order by [Future_of_Occupation] asc\")\n",
    "q4"
   ]
  },
  {
   "cell_type": "markdown",
   "metadata": {},
   "source": [
    "<html><b>Plotting a sided by side bar chart. The x axis represents the future of occupation. The y axis represents the number of the types of occupation representing its future. The bar graph shows the difference in the the future of the different types of job types.\n",
    "\n",
    "Ans. It can be seen that the probablity of the professional job type tp exist in future is the most. And the probablity that government oficials will exist is very less.</b></html>"
   ]
  },
  {
   "cell_type": "markdown",
   "metadata": {},
   "source": [
    "<html><b>\n",
    "\n",
    "Ans. It can be seen that the probablity of the professional job type tp exist in future is the most. And the probablity that government oficials will exist is very less.</b></html>"
   ]
  },
  {
   "cell_type": "code",
   "execution_count": 185,
   "metadata": {
    "collapsed": false
   },
   "outputs": [
    {
     "data": {},
     "metadata": {},
     "output_type": "display_data"
    },
    {
     "data": {
      "image/png": "[encoded data removed]",
      "text/plain": [
       "plot without title"
      ]
     },
     "metadata": {},
     "output_type": "display_data"
    }
   ],
   "source": [
    "column1 <- c(rep(\"Definitely will exist\", 5), rep(\"Probably will exist\", 5), rep(\"Definitely will NOT exist\", 5))\n",
    "column2 <- gl(5, 1, 15, labels=c(\"Professional\", \"Manager or Executive\", \"Government Official\", \"Administrative/Clerical\", \"Customer Service\"))\n",
    "column3 <- c(q4$frequency)\n",
    "\n",
    "d <- data.frame(Future_of_Occupation=column1, Employment_Type=column2, frequency=column3)\n",
    "\n",
    "require(ggplot2)\n",
    "ggplot(d, aes(x=Future_of_Occupation, y=frequency, fill=Employment_Type)) + geom_bar(stat=\"identity\", position=position_dodge())"
   ]
  },
  {
   "cell_type": "markdown",
   "metadata": {},
   "source": [
    "<html><b>Which job type receives what type of income?</b></html>"
   ]
  },
  {
   "cell_type": "code",
   "execution_count": 189,
   "metadata": {
    "collapsed": false
   },
   "outputs": [
    {
     "data": {
      "text/html": [
       "<table>\n",
       "<thead><tr><th scope=col>Employment_Type</th><th scope=col>Income</th><th scope=col>frequency</th></tr></thead>\n",
       "<tbody>\n",
       "\t<tr><td>1 </td><td>1 </td><td> 5</td></tr>\n",
       "\t<tr><td>2 </td><td>1 </td><td> 2</td></tr>\n",
       "\t<tr><td>3 </td><td>1 </td><td> 1</td></tr>\n",
       "\t<tr><td>4 </td><td>1 </td><td> 2</td></tr>\n",
       "\t<tr><td>5 </td><td>1 </td><td> 5</td></tr>\n",
       "\t<tr><td>1 </td><td>5 </td><td>26</td></tr>\n",
       "\t<tr><td>2 </td><td>5 </td><td> 3</td></tr>\n",
       "\t<tr><td>3 </td><td>5 </td><td> 1</td></tr>\n",
       "\t<tr><td>4 </td><td>5 </td><td> 7</td></tr>\n",
       "\t<tr><td>5 </td><td>5 </td><td>13</td></tr>\n",
       "\t<tr><td>1 </td><td>6 </td><td>58</td></tr>\n",
       "\t<tr><td>2 </td><td>6 </td><td>18</td></tr>\n",
       "\t<tr><td>3 </td><td>6 </td><td> 2</td></tr>\n",
       "\t<tr><td>4 </td><td>6 </td><td>15</td></tr>\n",
       "\t<tr><td>5 </td><td>6 </td><td>11</td></tr>\n",
       "\t<tr><td>1 </td><td>7 </td><td>47</td></tr>\n",
       "\t<tr><td>2 </td><td>7 </td><td>20</td></tr>\n",
       "\t<tr><td>3 </td><td>7 </td><td> 1</td></tr>\n",
       "\t<tr><td>4 </td><td>7 </td><td>11</td></tr>\n",
       "\t<tr><td>5 </td><td>7 </td><td> 9</td></tr>\n",
       "\t<tr><td>1 </td><td>8 </td><td>63</td></tr>\n",
       "\t<tr><td>2 </td><td>8 </td><td>34</td></tr>\n",
       "\t<tr><td>3 </td><td>8 </td><td> 2</td></tr>\n",
       "\t<tr><td>4 </td><td>8 </td><td> 8</td></tr>\n",
       "\t<tr><td>5 </td><td>8 </td><td> 5</td></tr>\n",
       "\t<tr><td>1 </td><td>9 </td><td>72</td></tr>\n",
       "\t<tr><td>2 </td><td>9 </td><td>26</td></tr>\n",
       "\t<tr><td>3 </td><td>9 </td><td> 1</td></tr>\n",
       "\t<tr><td>4 </td><td>9 </td><td> 5</td></tr>\n",
       "\t<tr><td>5 </td><td>9 </td><td> 3</td></tr>\n",
       "</tbody>\n",
       "</table>\n"
      ],
      "text/latex": [
       "\\begin{tabular}{r|lll}\n",
       " Employment\\_Type & Income & frequency\\\\\n",
       "\\hline\n",
       "\t 1  & 1  &  5\\\\\n",
       "\t 2  & 1  &  2\\\\\n",
       "\t 3  & 1  &  1\\\\\n",
       "\t 4  & 1  &  2\\\\\n",
       "\t 5  & 1  &  5\\\\\n",
       "\t 1  & 5  & 26\\\\\n",
       "\t 2  & 5  &  3\\\\\n",
       "\t 3  & 5  &  1\\\\\n",
       "\t 4  & 5  &  7\\\\\n",
       "\t 5  & 5  & 13\\\\\n",
       "\t 1  & 6  & 58\\\\\n",
       "\t 2  & 6  & 18\\\\\n",
       "\t 3  & 6  &  2\\\\\n",
       "\t 4  & 6  & 15\\\\\n",
       "\t 5  & 6  & 11\\\\\n",
       "\t 1  & 7  & 47\\\\\n",
       "\t 2  & 7  & 20\\\\\n",
       "\t 3  & 7  &  1\\\\\n",
       "\t 4  & 7  & 11\\\\\n",
       "\t 5  & 7  &  9\\\\\n",
       "\t 1  & 8  & 63\\\\\n",
       "\t 2  & 8  & 34\\\\\n",
       "\t 3  & 8  &  2\\\\\n",
       "\t 4  & 8  &  8\\\\\n",
       "\t 5  & 8  &  5\\\\\n",
       "\t 1  & 9  & 72\\\\\n",
       "\t 2  & 9  & 26\\\\\n",
       "\t 3  & 9  &  1\\\\\n",
       "\t 4  & 9  &  5\\\\\n",
       "\t 5  & 9  &  3\\\\\n",
       "\\end{tabular}\n"
      ],
      "text/markdown": [
       "\n",
       "Employment_Type | Income | frequency | \n",
       "|---|---|---|---|---|---|---|---|---|---|---|---|---|---|---|---|---|---|---|---|---|---|---|---|---|---|---|---|---|---|\n",
       "| 1  | 1  |  5 | \n",
       "| 2  | 1  |  2 | \n",
       "| 3  | 1  |  1 | \n",
       "| 4  | 1  |  2 | \n",
       "| 5  | 1  |  5 | \n",
       "| 1  | 5  | 26 | \n",
       "| 2  | 5  |  3 | \n",
       "| 3  | 5  |  1 | \n",
       "| 4  | 5  |  7 | \n",
       "| 5  | 5  | 13 | \n",
       "| 1  | 6  | 58 | \n",
       "| 2  | 6  | 18 | \n",
       "| 3  | 6  |  2 | \n",
       "| 4  | 6  | 15 | \n",
       "| 5  | 6  | 11 | \n",
       "| 1  | 7  | 47 | \n",
       "| 2  | 7  | 20 | \n",
       "| 3  | 7  |  1 | \n",
       "| 4  | 7  | 11 | \n",
       "| 5  | 7  |  9 | \n",
       "| 1  | 8  | 63 | \n",
       "| 2  | 8  | 34 | \n",
       "| 3  | 8  |  2 | \n",
       "| 4  | 8  |  8 | \n",
       "| 5  | 8  |  5 | \n",
       "| 1  | 9  | 72 | \n",
       "| 2  | 9  | 26 | \n",
       "| 3  | 9  |  1 | \n",
       "| 4  | 9  |  5 | \n",
       "| 5  | 9  |  3 | \n",
       "\n",
       "\n"
      ],
      "text/plain": [
       "   Employment_Type Income frequency\n",
       "1  1               1       5       \n",
       "2  2               1       2       \n",
       "3  3               1       1       \n",
       "4  4               1       2       \n",
       "5  5               1       5       \n",
       "6  1               5      26       \n",
       "7  2               5       3       \n",
       "8  3               5       1       \n",
       "9  4               5       7       \n",
       "10 5               5      13       \n",
       "11 1               6      58       \n",
       "12 2               6      18       \n",
       "13 3               6       2       \n",
       "14 4               6      15       \n",
       "15 5               6      11       \n",
       "16 1               7      47       \n",
       "17 2               7      20       \n",
       "18 3               7       1       \n",
       "19 4               7      11       \n",
       "20 5               7       9       \n",
       "21 1               8      63       \n",
       "22 2               8      34       \n",
       "23 3               8       2       \n",
       "24 4               8       8       \n",
       "25 5               8       5       \n",
       "26 1               9      72       \n",
       "27 2               9      26       \n",
       "28 3               9       1       \n",
       "29 4               9       5       \n",
       "30 5               9       3       "
      ]
     },
     "metadata": {},
     "output_type": "display_data"
    }
   ],
   "source": [
    "q5 = sqldf(\"select EMPTYPE3 as [Employment_Type], INC as Income, count(*) as frequency from df\n",
    "            where ((EMPTYPE3 =1 or EMPTYPE3 =2 or EMPTYPE3 =3 or EMPTYPE3 =4 or EMPTYPE3 =5) and ( (INC != 99) ) ) and (INC != 98) and INC<>2 and INC <> 3 and INC <> 4\n",
    "            group by EMPTYPE3, INC\n",
    "            order by INC\")\n",
    "q5"
   ]
  },
  {
   "cell_type": "markdown",
   "metadata": {},
   "source": [
    "<html><b>Plotting a sided by side bar chart. The x axis represents the income of people. The y axis represents the number of people belonging to a particular job type in a partcular income range.\n",
    "Ans. We can clearly see that professional people people generally get salary in the range 100-150K$. The same can be seen for other employment types as well. </b></html>"
   ]
  },
  {
   "cell_type": "markdown",
   "metadata": {},
   "source": [
    "<html><b>Ans. We can clearly see that professional people people generally get salary in the range 100-150K$. The same can be seen for other employment types as well. </b></html>"
   ]
  },
  {
   "cell_type": "code",
   "execution_count": 192,
   "metadata": {
    "collapsed": false
   },
   "outputs": [
    {
     "data": {},
     "metadata": {},
     "output_type": "display_data"
    },
    {
     "data": {
      "image/png": "[encoded data removed]",
      "text/plain": [
       "plot without title"
      ]
     },
     "metadata": {},
     "output_type": "display_data"
    }
   ],
   "source": [
    "column1 <- c(rep(\"<$40,000\", 5), rep(\"40-$50,000\", 5), rep(\"50-$75,000\", 5), rep(\"75-$100,000\", 5),rep(\"100-$150,000\", 5),rep(\"50-$75,000\", 5))\n",
    "column2 <- gl(5, 1, 30, labels=c(\"Professional\", \"Manager or Executive\", \"Government Official\", \"Administrative/Clerical\", \"Customer Service\"))\n",
    "column3 <- c(q5$frequency)\n",
    "\n",
    "d <- data.frame(Income=column1, Employment_Type=column2, frequency=column3)\n",
    "\n",
    "require(ggplot2)\n",
    "ggplot(d, aes(x=Income, y=frequency, fill=Employment_Type)) + geom_bar(stat=\"identity\", position=position_dodge())"
   ]
  },
  {
   "cell_type": "code",
   "execution_count": null,
   "metadata": {
    "collapsed": true
   },
   "outputs": [],
   "source": []
  }
 ],
 "metadata": {
  "kernelspec": {
   "display_name": "R",
   "language": "R",
   "name": "ir"
  },
  "language_info": {
   "codemirror_mode": "r",
   "file_extension": ".r",
   "mimetype": "text/x-r-source",
   "name": "R",
   "pygments_lexer": "r",
   "version": "3.3.2"
  }
 },
 "nbformat": 4,
 "nbformat_minor": 2
}
